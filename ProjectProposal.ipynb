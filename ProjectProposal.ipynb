{
 "cells": [
  {
   "cell_type": "markdown",
   "metadata": {},
   "source": [
    "# COGS 108 - Project Proposal"
   ]
  },
  {
   "cell_type": "markdown",
   "metadata": {},
   "source": [
    "## Important\n",
    "\n",
    "- Make sure all group members (3-5 people) are listed in the group members section.\n",
    "- ONE, and only one, member of your group should upload this notebook to TritonED. \n",
    "- Each member of the group will receive the same grade on this assignment. \n",
    "- Keep the file name the same: submit the file 'ProjectProposal.ipynb'"
   ]
  },
  {
   "cell_type": "markdown",
   "metadata": {},
   "source": [
    "## Overview"
   ]
  },
  {
   "cell_type": "markdown",
   "metadata": {},
   "source": [
    "Read the project description and detailed instructions for this assignment in the 'ProjectOutline' document."
   ]
  },
  {
   "cell_type": "markdown",
   "metadata": {},
   "source": [
    "## Group Members: Fill in the Student IDs of each group member here\n",
    "\n",
    "Replace the lines below to list each persons full student ID. Add lines as needed for your group size, and make sure each ID is listed on a separate line. \n",
    "\n",
    "\n",
    "- A13421945\n",
    "- A13807192\n",
    "- A13972041\n",
    "- A13945245"
   ]
  },
  {
   "cell_type": "markdown",
   "metadata": {},
   "source": [
    "### Research Question\n",
    "\n",
    "What is your research question? (1-2 sentences)"
   ]
  },
  {
   "cell_type": "markdown",
   "metadata": {},
   "source": [
    "What makes a youtube video trend? (upload time of year, words in the title, video category, words in tags, channel name/subscribers, etc.)"
   ]
  },
  {
   "cell_type": "markdown",
   "metadata": {},
   "source": [
    "### Hypothesis\n",
    "\n",
    "What is your main hypothesis and predictions? (2-3 sentences)"
   ]
  },
  {
   "cell_type": "markdown",
   "metadata": {},
   "source": [
    "The biggest factors that make YouTube videos trend include controversial words in the title and tags, publish times in Decemember, video categories in music and comedy, and high number of subscribers."
   ]
  },
  {
   "cell_type": "markdown",
   "metadata": {},
   "source": [
    "### Dataset(s)\n",
    "\n",
    "What data will you use to answer your question? Describe the dataset(s) in terms of number of observations, what kind of features it contains, etc. You must use at least one dataset containing at least approximately 1000 observations (if your data are smaller but you feel they are sufficient, email Prof. Voytek). You are welcome (and in fact recommended) to find multiple datasets! If you do so, describe each one, and briefly explain how you will combine them together. "
   ]
  },
  {
   "cell_type": "markdown",
   "metadata": {},
   "source": [
    "- Dataset Name: Trending YouTube Video Statistics\n",
    "- Link to the dataset: https://www.kaggle.com/datasnaek/youtube-new\n",
    "- Number of observations: 18,784\n",
    "This dataset describes the statistics of the videos which include title, tags, category, number of subscribers, etc."
   ]
  },
  {
   "cell_type": "markdown",
   "metadata": {},
   "source": [
    "### Background and Prior Work\n",
    "\n",
    "Why is this question of interest, what background information led you to your hypothesis, and why is this important?\n",
    "\n",
    "Find some relevant prior work, and reference those sources. Even if you think you have a totally novel question, find the most similar prior work that you can and discuss how it relates to your project. \n",
    "\n",
    "References can be research publications, but they need not be. Blogs, github repositories, company websites, etc., are all viable references if they are relevant to your project.\n",
    "\n",
    "(2-3 paragraphs, including at least 2 references)"
   ]
  },
  {
   "cell_type": "markdown",
   "metadata": {},
   "source": [
    "This question is of interest because YouTube is a global site that is extremeley prominent in our current time. YouTube, once a simple platform for entertainment, now offers people job opportunities and chances for fame. The larger number of views, likes, subscribers you have, the more you get paid and the more popular you become. People are always trying to trend their videos on YouTube so they can get more views and likes. \n",
    "\n",
    "Judging by the videos we see trending, we assumed that videos with clickbait titles would have the most views, along with videos released in December because of the holidays and categories in music and comedy because that is what people (including us and our friends) seem to enjoy seeing most. One of our references is a guide that teaches you how to get a video to go viral and it addressses a lot of aspects we discussed in our hypothesis, such as when to upload, title ideas, and even what to do once the video goes viral. The second reference is extremely similar; it is directly from YouTube and it lists the requirements for that videos trend on their site. \n",
    "\n",
    "References:\n",
    "- 1)https://medium.com/this-happened-to-me/10-ways-to-make-your-video-go-viral-d19d9b9465de\n",
    "- 2)https://support.google.com/youtube/answer/7239739?hl=en"
   ]
  },
  {
   "cell_type": "markdown",
   "metadata": {},
   "source": [
    "### Proposed Methods\n",
    "\n",
    "What methods will you use to analyze your data?\n",
    "\n",
    "- How 'clean' is the data? To the extent that it requires cleaning, how will you do so?\n",
    "- How will you analyze the data? Be as specific as you can. Briefly mention any pre-processing steps that are required for your methods (for example, checking data distributions and performing any transformations that may be required). Include a brief outline of how you will apply your chosen method(s). \n",
    "- What do you plan to report? Briefly mention any key visualizations you plan to create, and/or the kind of results you will be able to report that address your question (this could be, for example, the outcome of some statistical test(s), prediction error on a model, a model fit parameter, etc.).\n",
    "- Include a list of packages you expect to use for you project. If you plan to use packages we have not used in class, add a very brief description about them (a few words is sufficient). "
   ]
  },
  {
   "cell_type": "markdown",
   "metadata": {},
   "source": [
    "*Data Cleaning*\n",
    "There is not much to clean in our dataset, however some of the tags have \"none\" as their entries and thus we will drop those rows along with the ones that contain irrelevant information. \n",
    "\n",
    "*Data Analysis*\n",
    "Before analyzing the data we need to process it. For example, we plan to parse the tags and then put them into a dictionary. For each time they appear in a video's tags, the count will increment by one. Then if the tag only appears under a certain threshold they will be removed from the dictionary. The title also needs to be parsed and checked how many times certain words appear in the trending video titles. From here we can view the data and see what correlations there are between the trending videos.\n",
    "\n",
    "*What to report*\n",
    "We plan on making bar graphs to show what kind of words are popular in trending videos and when the videos are being uploaded throughout the year. We will report what the most popular topics are in each category to see what makes a trending video go trending.\n",
    "\n",
    "Packages we plan to use:\n",
    "- pandas\n",
    "- matplotlib"
   ]
  },
  {
   "cell_type": "markdown",
   "metadata": {},
   "source": [
    "### Ethics and Privacy\n",
    "\n",
    "Briefly acknowledge and address any potential issues of ethics and privacy for the proposed project. In particular:\n",
    "- Do you have permission to use this data, for this purpose?\n",
    "- Are there privacy concerns regarding your datasets that you need to deal with, and/or terms of use that you need to comply with?\n",
    "- Are there potential biases in your dataset(s), in terms of who it composes, and how it was collected, that may be problematic in terms of it allowing for equitable analysis? (For example, does your data exclude particular populations, or is it likely to reflect particular human biases in a way that could be a problem?) \n",
    "- Are there any other issues related to your topic area, data, and/or analyses that are potentially problematic in terms of data privacy and equitable impact?\n",
    "- How will you handle any issues you identify?\n",
    "\n",
    "(1-2 paragraphs)"
   ]
  },
  {
   "cell_type": "markdown",
   "metadata": {},
   "source": [
    "The dataset we are using is from Kaggle, which is a public domain. We do not expect there to be any privacy concerns since we assume that the data was scraped from publicly available data on Youtube. Potential biases may exist in the data, as there may be some users that pay Youtube to have their content labeled as \"trending\". Viewership numbers may also be affected by this monetary incentivization. We do not expect to have to handle any issues of ethics and privacy as part of this project."
   ]
  },
  {
   "cell_type": "markdown",
   "metadata": {},
   "source": [
    "### Discussion\n",
    "\n",
    "Discuss your project, looking forward to what your results might mean, how they fit it in with what is already known, and what problems you may encounter. \n",
    "\n",
    "In particular:\n",
    "- If your analyses and hypotheses are correct, what will be the contribution of this project to the topic domain? \n",
    "- Alternatively, what will you do if you methods don't work and/or your hypotheses are wrong? \n",
    "- What are the potential pitfalls and potential confounds of your data and/or methods that may cause problems, and/or influence your interpretations?\n",
    "\n",
    "(2-3 paragraphs)"
   ]
  },
  {
   "cell_type": "markdown",
   "metadata": {},
   "source": [
    "   If our analyses and hypotheses are correct, it will provide social media influencers with insight on how to create viral videos. Marketers and musical artists can also benefit from this data in order to promote their brands and/or music. If our hypotheses are wrong, this will still provide useful insight to the same group of people as they will now know which aspects will influence or instead have no effect on the viewcount of their videos. \n",
    "   The data for the 'tags' column is organized in a way such that each data entry has a string entry consisting of many different words. One of the pitfalls is that it may be difficult to extract the most common/popular tags because there are around 18,000 entries each of them contain many different tags. Additionally, we do not know whether there will even be tags that are consistent throughout the data, so we will need to experiment with different ways to organize that data.\n"
   ]
  }
 ],
 "metadata": {
  "kernelspec": {
   "display_name": "Python 3",
   "language": "python",
   "name": "python3"
  },
  "language_info": {
   "codemirror_mode": {
    "name": "ipython",
    "version": 3
   },
   "file_extension": ".py",
   "mimetype": "text/x-python",
   "name": "python",
   "nbconvert_exporter": "python",
   "pygments_lexer": "ipython3",
   "version": "3.6.3"
  }
 },
 "nbformat": 4,
 "nbformat_minor": 2
}
